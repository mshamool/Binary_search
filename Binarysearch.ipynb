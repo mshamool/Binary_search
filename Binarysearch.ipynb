{
 "cells": [
  {
   "cell_type": "markdown",
   "id": "29b7dd9a-a7d3-426e-8f3e-4892b16a4b91",
   "metadata": {},
   "source": [
    "#### Basic Binary Search\n",
    "\n",
    "Task: Implement binary search to check if a number exists.\n",
    "\n",
    "Input: arr = [1, 3, 5, 7, 9], x = 7\n",
    "\n",
    "Output: True"
   ]
  },
  {
   "cell_type": "code",
   "execution_count": 33,
   "id": "1f61c80b-fbd5-4e13-900b-ca1dc519995b",
   "metadata": {},
   "outputs": [
    {
     "data": {
      "text/plain": [
       "True"
      ]
     },
     "execution_count": 33,
     "metadata": {},
     "output_type": "execute_result"
    }
   ],
   "source": [
    "def func1(arr,target):\n",
    "    lower_index = 0\n",
    "    upper_index = len(arr)-1\n",
    "    while lower_index <= upper_index:\n",
    "        mid = lower_index + (upper_index - lower_index)//2\n",
    "        if arr[mid] == target:\n",
    "            return True\n",
    "        elif arr[mid] < target:\n",
    "            lower_index = mid+1\n",
    "        else:\n",
    "            upper_index = mid-1\n",
    "    return False\n",
    "\n",
    "arr = [1, 3, 5, 7, 9]\n",
    "x = 9\n",
    "func1(arr,x)"
   ]
  },
  {
   "cell_type": "markdown",
   "id": "c765ab20-0e84-4f0a-b0fb-1da877bb038b",
   "metadata": {},
   "source": [
    "#### Return Index if Found\n",
    "\n",
    "Task: Return index of element if found, else -1.\n",
    "\n",
    "Input: arr = [2, 4, 6, 8, 10], x = 8\n",
    "\n",
    "Output: 3"
   ]
  },
  {
   "cell_type": "code",
   "execution_count": 34,
   "id": "96e7faf4-bf5d-46f5-9349-3aee6de6883b",
   "metadata": {},
   "outputs": [
    {
     "data": {
      "text/plain": [
       "3"
      ]
     },
     "execution_count": 34,
     "metadata": {},
     "output_type": "execute_result"
    }
   ],
   "source": [
    "def func2(arr,target):\n",
    "    lower = 0\n",
    "    upper = len(arr)-1\n",
    "    while lower <= upper:\n",
    "        mid = lower + (upper - lower) // 2\n",
    "        if arr[mid] == target:\n",
    "            return mid\n",
    "        elif arr[mid] < target:\n",
    "            lower = mid + 1\n",
    "        else:\n",
    "            upper = mid - 1\n",
    "    return -1\n",
    "arr = [2, 4, 6, 8, 10]\n",
    "x = 8\n",
    "func2(arr,x)"
   ]
  },
  {
   "cell_type": "markdown",
   "id": "13431c68-b294-482e-b886-3a7a41a8ad58",
   "metadata": {},
   "source": [
    "#### Binary Search on Descending List\n",
    "\n",
    "Task: Adapt binary search for a list sorted in descending order.\n",
    "\n",
    "Input: arr = [20, 15, 10, 5], x = 10\n",
    "\n",
    "Output: 2"
   ]
  },
  {
   "cell_type": "code",
   "execution_count": 35,
   "id": "044a1923-4675-41d2-9181-bb05f0262341",
   "metadata": {},
   "outputs": [
    {
     "data": {
      "text/plain": [
       "2"
      ]
     },
     "execution_count": 35,
     "metadata": {},
     "output_type": "execute_result"
    }
   ],
   "source": [
    "def func3(arr,target):\n",
    "    lower = 0\n",
    "    upper = len(arr) - 1\n",
    "    while lower <= upper:\n",
    "        mid = lower + (upper - lower) // 2\n",
    "        if arr[mid] == target:\n",
    "            return mid\n",
    "        elif arr[mid] > target:\n",
    "            lower = mid + 1\n",
    "        else:\n",
    "            upper = mid - 1\n",
    "    return \"Target not found\"\n",
    "\n",
    "arr = [20, 15, 10, 5]\n",
    "x = 10\n",
    "func3(arr,x)"
   ]
  },
  {
   "cell_type": "markdown",
   "id": "8bdacb36-0295-47a9-9c42-1ca0769ba36b",
   "metadata": {},
   "source": [
    "#### Find First and Last Occurrence of Element\n",
    "\n",
    "Task: In a sorted array with duplicates, find the first and last index of x.\n",
    "\n",
    "Input: arr = [1, 2, 2, 2, 3], x = 2\n",
    "\n",
    "Output: (1, 3)"
   ]
  },
  {
   "cell_type": "code",
   "execution_count": 36,
   "id": "6ec9a890-3d6a-44cc-8a77-0cabda4f54f4",
   "metadata": {},
   "outputs": [],
   "source": [
    "def func4(arr,target):\n",
    "    def firstindex():\n",
    "        low = 0\n",
    "        upr = len(arr) - 1\n",
    "        first_index = -1\n",
    "        while low <= upr:\n",
    "            mid = low + (upr-low)//2\n",
    "            if arr[mid] == target:\n",
    "                first_index = mid\n",
    "                upr = mid - 1\n",
    "            elif arr[mid] < target:\n",
    "                low = mid + 1\n",
    "            else:\n",
    "                upr = mid - 1\n",
    "        return first_index\n",
    "\n",
    "    def lastindex():\n",
    "        low = 0\n",
    "        upr = len(arr) - 1\n",
    "        last_index = -1\n",
    "        while low <= upr:\n",
    "            mid = low + (upr-low)//2\n",
    "            if arr[mid] == target:\n",
    "                last_index = mid\n",
    "                low = mid + 1\n",
    "            elif arr[mid] < target:\n",
    "                low = mid + 1\n",
    "            else:\n",
    "                upr = mid - 1\n",
    "        return last_index\n",
    "    return (firstindex(),lastindex())"
   ]
  },
  {
   "cell_type": "code",
   "execution_count": 37,
   "id": "88a5380e-b292-4885-b4f2-518a0b74f4f1",
   "metadata": {},
   "outputs": [
    {
     "data": {
      "text/plain": [
       "(1, 3)"
      ]
     },
     "execution_count": 37,
     "metadata": {},
     "output_type": "execute_result"
    }
   ],
   "source": [
    "arr = [1, 2, 2, 2, 3]\n",
    "x = 2\n",
    "func4(arr,2)"
   ]
  },
  {
   "cell_type": "markdown",
   "id": "be5ad416-900d-43fb-a699-ec5824079181",
   "metadata": {},
   "source": [
    "#### Find Number of Occurrences\n",
    "\n",
    "Task: Count number of times x appears using binary search range.\n",
    "\n",
    "Input: arr = [1, 2, 2, 2, 3, 4], x = 2\n",
    "\n",
    "Output: 3"
   ]
  },
  {
   "cell_type": "code",
   "execution_count": 38,
   "id": "bf6f02bb-c17f-4704-a069-054a45cac301",
   "metadata": {},
   "outputs": [],
   "source": [
    "def func5(arr,target):\n",
    "    def firstindex():\n",
    "        lwr = 0\n",
    "        upr = len(arr)-1\n",
    "        findex = -1\n",
    "        while lwr <= upr:\n",
    "            mid = lwr + (upr-lwr)//2\n",
    "            if arr[mid] == target:\n",
    "                findex = mid\n",
    "                upr = mid - 1\n",
    "            elif arr[mid] < target:\n",
    "                lwr = mid + 1\n",
    "            else:\n",
    "                upr = mid - 1\n",
    "        return findex\n",
    "    def lastindex():\n",
    "        lwr = 0\n",
    "        upr = len(arr)-1\n",
    "        lindex = -1\n",
    "        while lwr <= upr:\n",
    "            mid = lwr + (upr-lwr)//2\n",
    "            if arr[mid] == target:\n",
    "                lindex = mid\n",
    "                lwr = mid + 1\n",
    "            elif arr[mid] < target:\n",
    "                lwr = mid + 1\n",
    "            else:\n",
    "                upr = mid - 1\n",
    "        return lindex\n",
    "    return (lastindex() - firstindex())+1"
   ]
  },
  {
   "cell_type": "code",
   "execution_count": 43,
   "id": "35da6d4a-9829-4e20-9630-1ca4883ea0c5",
   "metadata": {},
   "outputs": [
    {
     "data": {
      "text/plain": [
       "5"
      ]
     },
     "execution_count": 43,
     "metadata": {},
     "output_type": "execute_result"
    }
   ],
   "source": [
    "arr = [1, 2, 2, 2, 3, 4, 4, 4, 4, 4]\n",
    "x = 4\n",
    "func5(arr,x)"
   ]
  },
  {
   "cell_type": "markdown",
   "id": "423cdab5-ac95-433f-b212-d6cf0117c096",
   "metadata": {},
   "source": [
    "#### Find Insert Position\n",
    "\n",
    "Task: Find the position to insert x so the array remains sorted.\n",
    "\n",
    "Input: arr = [1, 3, 5, 6], x = 2\n",
    "\n",
    "Output: 1"
   ]
  },
  {
   "cell_type": "code",
   "execution_count": 50,
   "id": "06b6e301-b609-491d-8fc2-5e6a6dcf52af",
   "metadata": {},
   "outputs": [],
   "source": [
    "def func6(arr,target):\n",
    "    lwr = 0\n",
    "    upr = len(arr)-1\n",
    "    while lwr <= upr:\n",
    "        mid = lwr + (upr-lwr)//2\n",
    "        if target < arr[mid] and target > arr[mid-1]:\n",
    "            return mid\n",
    "        elif target < arr[0]:\n",
    "            return 0\n",
    "        elif target > arr[-1]:\n",
    "            return()\n",
    "        elif arr[mid] < target:\n",
    "            lwr = mid + 1\n",
    "        else:\n",
    "            upr = mid - 1\n",
    "\n",
    "arr = [2, 3, 5, 7]\n",
    "x = 1\n",
    "func6(arr,x)"
   ]
  },
  {
   "cell_type": "code",
   "execution_count": null,
   "id": "657cfdab-aff5-4d7a-9755-e060c7f3767d",
   "metadata": {},
   "outputs": [],
   "source": []
  }
 ],
 "metadata": {
  "kernelspec": {
   "display_name": "Python 3 (ipykernel)",
   "language": "python",
   "name": "python3"
  },
  "language_info": {
   "codemirror_mode": {
    "name": "ipython",
    "version": 3
   },
   "file_extension": ".py",
   "mimetype": "text/x-python",
   "name": "python",
   "nbconvert_exporter": "python",
   "pygments_lexer": "ipython3",
   "version": "3.12.1"
  }
 },
 "nbformat": 4,
 "nbformat_minor": 5
}
